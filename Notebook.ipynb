{
 "cells": [
  {
   "cell_type": "code",
   "execution_count": 6,
   "metadata": {},
   "outputs": [],
   "source": [
    "from datetime import date, timedelta\n",
    "import pandas as pd\n",
    "\n",
    "# Tratamiento de datos\n",
    "# ==============================================================================\n",
    "import numpy as np\n",
    "\n",
    "# Gráficos\n",
    "# ==============================================================================\n",
    "import matplotlib.pyplot as plt\n",
    "plt.style.use('fivethirtyeight')\n",
    "plt.rcParams['lines.linewidth'] = 1.5\n",
    "%matplotlib inline\n",
    "\n",
    "# Modelado y Forecasting\n",
    "# ==============================================================================\n",
    "from sklearn.linear_model import LinearRegression\n",
    "from sklearn.linear_model import Lasso\n",
    "from sklearn.ensemble import RandomForestRegressor\n",
    "from sklearn.metrics import mean_squared_error\n",
    "from sklearn.preprocessing import StandardScaler\n",
    "from sklearn.pipeline import make_pipeline\n",
    "\n",
    "from skforecast.ForecasterAutoreg import ForecasterAutoreg\n",
    "from skforecast.ForecasterAutoregCustom import ForecasterAutoregCustom\n",
    "from skforecast.ForecasterAutoregMultiOutput import ForecasterAutoregMultiOutput\n",
    "from skforecast.model_selection import grid_search_forecaster\n",
    "from skforecast.model_selection import backtesting_forecaster\n",
    "\n",
    "from joblib import dump, load\n",
    "\n",
    "# Configuración warnings\n",
    "# ==============================================================================\n",
    "import warnings\n",
    "# warnings.filterwarnings('ignore')"
   ]
  },
  {
   "cell_type": "code",
   "execution_count": 7,
   "metadata": {},
   "outputs": [],
   "source": [
    "sdate = date(2017,11,1)   # start date\n",
    "edate = date(2022,4,30)   # end date"
   ]
  },
  {
   "cell_type": "code",
   "execution_count": 8,
   "metadata": {},
   "outputs": [
    {
     "name": "stdout",
     "output_type": "stream",
     "text": [
      "(1641, 2)\n"
     ]
    },
    {
     "data": {
      "text/html": [
       "<div>\n",
       "<style scoped>\n",
       "    .dataframe tbody tr th:only-of-type {\n",
       "        vertical-align: middle;\n",
       "    }\n",
       "\n",
       "    .dataframe tbody tr th {\n",
       "        vertical-align: top;\n",
       "    }\n",
       "\n",
       "    .dataframe thead th {\n",
       "        text-align: right;\n",
       "    }\n",
       "</style>\n",
       "<table border=\"1\" class=\"dataframe\">\n",
       "  <thead>\n",
       "    <tr style=\"text-align: right;\">\n",
       "      <th></th>\n",
       "      <th>Fecha</th>\n",
       "      <th>target</th>\n",
       "    </tr>\n",
       "  </thead>\n",
       "  <tbody>\n",
       "    <tr>\n",
       "      <th>0</th>\n",
       "      <td>2017-11-01</td>\n",
       "      <td>0</td>\n",
       "    </tr>\n",
       "    <tr>\n",
       "      <th>1</th>\n",
       "      <td>2017-11-02</td>\n",
       "      <td>0</td>\n",
       "    </tr>\n",
       "    <tr>\n",
       "      <th>2</th>\n",
       "      <td>2017-11-03</td>\n",
       "      <td>0</td>\n",
       "    </tr>\n",
       "    <tr>\n",
       "      <th>3</th>\n",
       "      <td>2017-11-04</td>\n",
       "      <td>0</td>\n",
       "    </tr>\n",
       "    <tr>\n",
       "      <th>4</th>\n",
       "      <td>2017-11-05</td>\n",
       "      <td>0</td>\n",
       "    </tr>\n",
       "  </tbody>\n",
       "</table>\n",
       "</div>"
      ],
      "text/plain": [
       "       Fecha  target\n",
       "0 2017-11-01       0\n",
       "1 2017-11-02       0\n",
       "2 2017-11-03       0\n",
       "3 2017-11-04       0\n",
       "4 2017-11-05       0"
      ]
     },
     "execution_count": 8,
     "metadata": {},
     "output_type": "execute_result"
    }
   ],
   "source": [
    "df_f = pd.date_range(sdate,edate-timedelta(days=1),freq='d').to_frame(index=False, name='Fecha')\n",
    "df_f['target'] = 0\n",
    "print(df_f.shape)\n",
    "df_f.head()"
   ]
  },
  {
   "cell_type": "code",
   "execution_count": 9,
   "metadata": {},
   "outputs": [
    {
     "name": "stdout",
     "output_type": "stream",
     "text": [
      "(54, 1)\n"
     ]
    },
    {
     "data": {
      "text/html": [
       "<div>\n",
       "<style scoped>\n",
       "    .dataframe tbody tr th:only-of-type {\n",
       "        vertical-align: middle;\n",
       "    }\n",
       "\n",
       "    .dataframe tbody tr th {\n",
       "        vertical-align: top;\n",
       "    }\n",
       "\n",
       "    .dataframe thead th {\n",
       "        text-align: right;\n",
       "    }\n",
       "</style>\n",
       "<table border=\"1\" class=\"dataframe\">\n",
       "  <thead>\n",
       "    <tr style=\"text-align: right;\">\n",
       "      <th></th>\n",
       "      <th>Fecha</th>\n",
       "    </tr>\n",
       "  </thead>\n",
       "  <tbody>\n",
       "    <tr>\n",
       "      <th>0</th>\n",
       "      <td>26/04/2022</td>\n",
       "    </tr>\n",
       "    <tr>\n",
       "      <th>1</th>\n",
       "      <td>26/03/2022</td>\n",
       "    </tr>\n",
       "    <tr>\n",
       "      <th>2</th>\n",
       "      <td>24/02/2022</td>\n",
       "    </tr>\n",
       "    <tr>\n",
       "      <th>3</th>\n",
       "      <td>27/01/2022</td>\n",
       "    </tr>\n",
       "    <tr>\n",
       "      <th>4</th>\n",
       "      <td>25/12/2021</td>\n",
       "    </tr>\n",
       "  </tbody>\n",
       "</table>\n",
       "</div>"
      ],
      "text/plain": [
       "        Fecha\n",
       "0  26/04/2022\n",
       "1  26/03/2022\n",
       "2  24/02/2022\n",
       "3  27/01/2022\n",
       "4  25/12/2021"
      ]
     },
     "execution_count": 9,
     "metadata": {},
     "output_type": "execute_result"
    }
   ],
   "source": [
    "df_n = pd.read_csv('Nominas.csv', sep=';')\n",
    "print(df_n.shape)\n",
    "df_n.head()"
   ]
  },
  {
   "cell_type": "code",
   "execution_count": 10,
   "metadata": {},
   "outputs": [
    {
     "name": "stderr",
     "output_type": "stream",
     "text": [
      "C:\\Users\\JuanRamón\\AppData\\Roaming\\Python\\Python310\\site-packages\\pandas\\core\\dtypes\\cast.py:1163: UserWarning: Parsing '26/04/2022' in DD/MM/YYYY format. Provide format or specify infer_datetime_format=True for consistent parsing.\n",
      "  to_datetime(arr).values,\n",
      "C:\\Users\\JuanRamón\\AppData\\Roaming\\Python\\Python310\\site-packages\\pandas\\core\\dtypes\\cast.py:1163: UserWarning: Parsing '26/03/2022' in DD/MM/YYYY format. Provide format or specify infer_datetime_format=True for consistent parsing.\n",
      "  to_datetime(arr).values,\n",
      "C:\\Users\\JuanRamón\\AppData\\Roaming\\Python\\Python310\\site-packages\\pandas\\core\\dtypes\\cast.py:1163: UserWarning: Parsing '24/02/2022' in DD/MM/YYYY format. Provide format or specify infer_datetime_format=True for consistent parsing.\n",
      "  to_datetime(arr).values,\n",
      "C:\\Users\\JuanRamón\\AppData\\Roaming\\Python\\Python310\\site-packages\\pandas\\core\\dtypes\\cast.py:1163: UserWarning: Parsing '27/01/2022' in DD/MM/YYYY format. Provide format or specify infer_datetime_format=True for consistent parsing.\n",
      "  to_datetime(arr).values,\n",
      "C:\\Users\\JuanRamón\\AppData\\Roaming\\Python\\Python310\\site-packages\\pandas\\core\\dtypes\\cast.py:1163: UserWarning: Parsing '25/12/2021' in DD/MM/YYYY format. Provide format or specify infer_datetime_format=True for consistent parsing.\n",
      "  to_datetime(arr).values,\n",
      "C:\\Users\\JuanRamón\\AppData\\Roaming\\Python\\Python310\\site-packages\\pandas\\core\\dtypes\\cast.py:1163: UserWarning: Parsing '26/11/2021' in DD/MM/YYYY format. Provide format or specify infer_datetime_format=True for consistent parsing.\n",
      "  to_datetime(arr).values,\n",
      "C:\\Users\\JuanRamón\\AppData\\Roaming\\Python\\Python310\\site-packages\\pandas\\core\\dtypes\\cast.py:1163: UserWarning: Parsing '27/10/2021' in DD/MM/YYYY format. Provide format or specify infer_datetime_format=True for consistent parsing.\n",
      "  to_datetime(arr).values,\n",
      "C:\\Users\\JuanRamón\\AppData\\Roaming\\Python\\Python310\\site-packages\\pandas\\core\\dtypes\\cast.py:1163: UserWarning: Parsing '25/09/2021' in DD/MM/YYYY format. Provide format or specify infer_datetime_format=True for consistent parsing.\n",
      "  to_datetime(arr).values,\n",
      "C:\\Users\\JuanRamón\\AppData\\Roaming\\Python\\Python310\\site-packages\\pandas\\core\\dtypes\\cast.py:1163: UserWarning: Parsing '26/08/2021' in DD/MM/YYYY format. Provide format or specify infer_datetime_format=True for consistent parsing.\n",
      "  to_datetime(arr).values,\n",
      "C:\\Users\\JuanRamón\\AppData\\Roaming\\Python\\Python310\\site-packages\\pandas\\core\\dtypes\\cast.py:1163: UserWarning: Parsing '23/07/2021' in DD/MM/YYYY format. Provide format or specify infer_datetime_format=True for consistent parsing.\n",
      "  to_datetime(arr).values,\n",
      "C:\\Users\\JuanRamón\\AppData\\Roaming\\Python\\Python310\\site-packages\\pandas\\core\\dtypes\\cast.py:1163: UserWarning: Parsing '25/06/2021' in DD/MM/YYYY format. Provide format or specify infer_datetime_format=True for consistent parsing.\n",
      "  to_datetime(arr).values,\n",
      "C:\\Users\\JuanRamón\\AppData\\Roaming\\Python\\Python310\\site-packages\\pandas\\core\\dtypes\\cast.py:1163: UserWarning: Parsing '27/05/2021' in DD/MM/YYYY format. Provide format or specify infer_datetime_format=True for consistent parsing.\n",
      "  to_datetime(arr).values,\n",
      "C:\\Users\\JuanRamón\\AppData\\Roaming\\Python\\Python310\\site-packages\\pandas\\core\\dtypes\\cast.py:1163: UserWarning: Parsing '27/04/2021' in DD/MM/YYYY format. Provide format or specify infer_datetime_format=True for consistent parsing.\n",
      "  to_datetime(arr).values,\n",
      "C:\\Users\\JuanRamón\\AppData\\Roaming\\Python\\Python310\\site-packages\\pandas\\core\\dtypes\\cast.py:1163: UserWarning: Parsing '30/03/2021' in DD/MM/YYYY format. Provide format or specify infer_datetime_format=True for consistent parsing.\n",
      "  to_datetime(arr).values,\n",
      "C:\\Users\\JuanRamón\\AppData\\Roaming\\Python\\Python310\\site-packages\\pandas\\core\\dtypes\\cast.py:1163: UserWarning: Parsing '23/02/2021' in DD/MM/YYYY format. Provide format or specify infer_datetime_format=True for consistent parsing.\n",
      "  to_datetime(arr).values,\n",
      "C:\\Users\\JuanRamón\\AppData\\Roaming\\Python\\Python310\\site-packages\\pandas\\core\\dtypes\\cast.py:1163: UserWarning: Parsing '27/01/2021' in DD/MM/YYYY format. Provide format or specify infer_datetime_format=True for consistent parsing.\n",
      "  to_datetime(arr).values,\n",
      "C:\\Users\\JuanRamón\\AppData\\Roaming\\Python\\Python310\\site-packages\\pandas\\core\\dtypes\\cast.py:1163: UserWarning: Parsing '30/12/2020' in DD/MM/YYYY format. Provide format or specify infer_datetime_format=True for consistent parsing.\n",
      "  to_datetime(arr).values,\n",
      "C:\\Users\\JuanRamón\\AppData\\Roaming\\Python\\Python310\\site-packages\\pandas\\core\\dtypes\\cast.py:1163: UserWarning: Parsing '27/11/2020' in DD/MM/YYYY format. Provide format or specify infer_datetime_format=True for consistent parsing.\n",
      "  to_datetime(arr).values,\n",
      "C:\\Users\\JuanRamón\\AppData\\Roaming\\Python\\Python310\\site-packages\\pandas\\core\\dtypes\\cast.py:1163: UserWarning: Parsing '28/10/2020' in DD/MM/YYYY format. Provide format or specify infer_datetime_format=True for consistent parsing.\n",
      "  to_datetime(arr).values,\n",
      "C:\\Users\\JuanRamón\\AppData\\Roaming\\Python\\Python310\\site-packages\\pandas\\core\\dtypes\\cast.py:1163: UserWarning: Parsing '26/09/2020' in DD/MM/YYYY format. Provide format or specify infer_datetime_format=True for consistent parsing.\n",
      "  to_datetime(arr).values,\n",
      "C:\\Users\\JuanRamón\\AppData\\Roaming\\Python\\Python310\\site-packages\\pandas\\core\\dtypes\\cast.py:1163: UserWarning: Parsing '26/08/2020' in DD/MM/YYYY format. Provide format or specify infer_datetime_format=True for consistent parsing.\n",
      "  to_datetime(arr).values,\n",
      "C:\\Users\\JuanRamón\\AppData\\Roaming\\Python\\Python310\\site-packages\\pandas\\core\\dtypes\\cast.py:1163: UserWarning: Parsing '29/07/2020' in DD/MM/YYYY format. Provide format or specify infer_datetime_format=True for consistent parsing.\n",
      "  to_datetime(arr).values,\n",
      "C:\\Users\\JuanRamón\\AppData\\Roaming\\Python\\Python310\\site-packages\\pandas\\core\\dtypes\\cast.py:1163: UserWarning: Parsing '27/06/2020' in DD/MM/YYYY format. Provide format or specify infer_datetime_format=True for consistent parsing.\n",
      "  to_datetime(arr).values,\n",
      "C:\\Users\\JuanRamón\\AppData\\Roaming\\Python\\Python310\\site-packages\\pandas\\core\\dtypes\\cast.py:1163: UserWarning: Parsing '27/05/2020' in DD/MM/YYYY format. Provide format or specify infer_datetime_format=True for consistent parsing.\n",
      "  to_datetime(arr).values,\n",
      "C:\\Users\\JuanRamón\\AppData\\Roaming\\Python\\Python310\\site-packages\\pandas\\core\\dtypes\\cast.py:1163: UserWarning: Parsing '28/04/2020' in DD/MM/YYYY format. Provide format or specify infer_datetime_format=True for consistent parsing.\n",
      "  to_datetime(arr).values,\n",
      "C:\\Users\\JuanRamón\\AppData\\Roaming\\Python\\Python310\\site-packages\\pandas\\core\\dtypes\\cast.py:1163: UserWarning: Parsing '27/03/2020' in DD/MM/YYYY format. Provide format or specify infer_datetime_format=True for consistent parsing.\n",
      "  to_datetime(arr).values,\n",
      "C:\\Users\\JuanRamón\\AppData\\Roaming\\Python\\Python310\\site-packages\\pandas\\core\\dtypes\\cast.py:1163: UserWarning: Parsing '26/02/2020' in DD/MM/YYYY format. Provide format or specify infer_datetime_format=True for consistent parsing.\n",
      "  to_datetime(arr).values,\n",
      "C:\\Users\\JuanRamón\\AppData\\Roaming\\Python\\Python310\\site-packages\\pandas\\core\\dtypes\\cast.py:1163: UserWarning: Parsing '28/01/2020' in DD/MM/YYYY format. Provide format or specify infer_datetime_format=True for consistent parsing.\n",
      "  to_datetime(arr).values,\n",
      "C:\\Users\\JuanRamón\\AppData\\Roaming\\Python\\Python310\\site-packages\\pandas\\core\\dtypes\\cast.py:1163: UserWarning: Parsing '31/12/2019' in DD/MM/YYYY format. Provide format or specify infer_datetime_format=True for consistent parsing.\n",
      "  to_datetime(arr).values,\n",
      "C:\\Users\\JuanRamón\\AppData\\Roaming\\Python\\Python310\\site-packages\\pandas\\core\\dtypes\\cast.py:1163: UserWarning: Parsing '27/11/2019' in DD/MM/YYYY format. Provide format or specify infer_datetime_format=True for consistent parsing.\n",
      "  to_datetime(arr).values,\n",
      "C:\\Users\\JuanRamón\\AppData\\Roaming\\Python\\Python310\\site-packages\\pandas\\core\\dtypes\\cast.py:1163: UserWarning: Parsing '30/10/2019' in DD/MM/YYYY format. Provide format or specify infer_datetime_format=True for consistent parsing.\n",
      "  to_datetime(arr).values,\n",
      "C:\\Users\\JuanRamón\\AppData\\Roaming\\Python\\Python310\\site-packages\\pandas\\core\\dtypes\\cast.py:1163: UserWarning: Parsing '26/09/2019' in DD/MM/YYYY format. Provide format or specify infer_datetime_format=True for consistent parsing.\n",
      "  to_datetime(arr).values,\n",
      "C:\\Users\\JuanRamón\\AppData\\Roaming\\Python\\Python310\\site-packages\\pandas\\core\\dtypes\\cast.py:1163: UserWarning: Parsing '27/08/2019' in DD/MM/YYYY format. Provide format or specify infer_datetime_format=True for consistent parsing.\n",
      "  to_datetime(arr).values,\n",
      "C:\\Users\\JuanRamón\\AppData\\Roaming\\Python\\Python310\\site-packages\\pandas\\core\\dtypes\\cast.py:1163: UserWarning: Parsing '27/07/2019' in DD/MM/YYYY format. Provide format or specify infer_datetime_format=True for consistent parsing.\n",
      "  to_datetime(arr).values,\n",
      "C:\\Users\\JuanRamón\\AppData\\Roaming\\Python\\Python310\\site-packages\\pandas\\core\\dtypes\\cast.py:1163: UserWarning: Parsing '27/06/2019' in DD/MM/YYYY format. Provide format or specify infer_datetime_format=True for consistent parsing.\n",
      "  to_datetime(arr).values,\n",
      "C:\\Users\\JuanRamón\\AppData\\Roaming\\Python\\Python310\\site-packages\\pandas\\core\\dtypes\\cast.py:1163: UserWarning: Parsing '29/05/2019' in DD/MM/YYYY format. Provide format or specify infer_datetime_format=True for consistent parsing.\n",
      "  to_datetime(arr).values,\n",
      "C:\\Users\\JuanRamón\\AppData\\Roaming\\Python\\Python310\\site-packages\\pandas\\core\\dtypes\\cast.py:1163: UserWarning: Parsing '26/04/2019' in DD/MM/YYYY format. Provide format or specify infer_datetime_format=True for consistent parsing.\n",
      "  to_datetime(arr).values,\n",
      "C:\\Users\\JuanRamón\\AppData\\Roaming\\Python\\Python310\\site-packages\\pandas\\core\\dtypes\\cast.py:1163: UserWarning: Parsing '27/03/2019' in DD/MM/YYYY format. Provide format or specify infer_datetime_format=True for consistent parsing.\n",
      "  to_datetime(arr).values,\n",
      "C:\\Users\\JuanRamón\\AppData\\Roaming\\Python\\Python310\\site-packages\\pandas\\core\\dtypes\\cast.py:1163: UserWarning: Parsing '26/02/2019' in DD/MM/YYYY format. Provide format or specify infer_datetime_format=True for consistent parsing.\n",
      "  to_datetime(arr).values,\n",
      "C:\\Users\\JuanRamón\\AppData\\Roaming\\Python\\Python310\\site-packages\\pandas\\core\\dtypes\\cast.py:1163: UserWarning: Parsing '29/01/2019' in DD/MM/YYYY format. Provide format or specify infer_datetime_format=True for consistent parsing.\n",
      "  to_datetime(arr).values,\n",
      "C:\\Users\\JuanRamón\\AppData\\Roaming\\Python\\Python310\\site-packages\\pandas\\core\\dtypes\\cast.py:1163: UserWarning: Parsing '28/12/2018' in DD/MM/YYYY format. Provide format or specify infer_datetime_format=True for consistent parsing.\n",
      "  to_datetime(arr).values,\n",
      "C:\\Users\\JuanRamón\\AppData\\Roaming\\Python\\Python310\\site-packages\\pandas\\core\\dtypes\\cast.py:1163: UserWarning: Parsing '28/11/2018' in DD/MM/YYYY format. Provide format or specify infer_datetime_format=True for consistent parsing.\n",
      "  to_datetime(arr).values,\n",
      "C:\\Users\\JuanRamón\\AppData\\Roaming\\Python\\Python310\\site-packages\\pandas\\core\\dtypes\\cast.py:1163: UserWarning: Parsing '26/10/2018' in DD/MM/YYYY format. Provide format or specify infer_datetime_format=True for consistent parsing.\n",
      "  to_datetime(arr).values,\n",
      "C:\\Users\\JuanRamón\\AppData\\Roaming\\Python\\Python310\\site-packages\\pandas\\core\\dtypes\\cast.py:1163: UserWarning: Parsing '26/09/2018' in DD/MM/YYYY format. Provide format or specify infer_datetime_format=True for consistent parsing.\n",
      "  to_datetime(arr).values,\n",
      "C:\\Users\\JuanRamón\\AppData\\Roaming\\Python\\Python310\\site-packages\\pandas\\core\\dtypes\\cast.py:1163: UserWarning: Parsing '29/08/2018' in DD/MM/YYYY format. Provide format or specify infer_datetime_format=True for consistent parsing.\n",
      "  to_datetime(arr).values,\n",
      "C:\\Users\\JuanRamón\\AppData\\Roaming\\Python\\Python310\\site-packages\\pandas\\core\\dtypes\\cast.py:1163: UserWarning: Parsing '26/07/2018' in DD/MM/YYYY format. Provide format or specify infer_datetime_format=True for consistent parsing.\n",
      "  to_datetime(arr).values,\n",
      "C:\\Users\\JuanRamón\\AppData\\Roaming\\Python\\Python310\\site-packages\\pandas\\core\\dtypes\\cast.py:1163: UserWarning: Parsing '26/06/2018' in DD/MM/YYYY format. Provide format or specify infer_datetime_format=True for consistent parsing.\n",
      "  to_datetime(arr).values,\n",
      "C:\\Users\\JuanRamón\\AppData\\Roaming\\Python\\Python310\\site-packages\\pandas\\core\\dtypes\\cast.py:1163: UserWarning: Parsing '29/05/2018' in DD/MM/YYYY format. Provide format or specify infer_datetime_format=True for consistent parsing.\n",
      "  to_datetime(arr).values,\n",
      "C:\\Users\\JuanRamón\\AppData\\Roaming\\Python\\Python310\\site-packages\\pandas\\core\\dtypes\\cast.py:1163: UserWarning: Parsing '26/04/2018' in DD/MM/YYYY format. Provide format or specify infer_datetime_format=True for consistent parsing.\n",
      "  to_datetime(arr).values,\n",
      "C:\\Users\\JuanRamón\\AppData\\Roaming\\Python\\Python310\\site-packages\\pandas\\core\\dtypes\\cast.py:1163: UserWarning: Parsing '27/03/2018' in DD/MM/YYYY format. Provide format or specify infer_datetime_format=True for consistent parsing.\n",
      "  to_datetime(arr).values,\n",
      "C:\\Users\\JuanRamón\\AppData\\Roaming\\Python\\Python310\\site-packages\\pandas\\core\\dtypes\\cast.py:1163: UserWarning: Parsing '24/02/2018' in DD/MM/YYYY format. Provide format or specify infer_datetime_format=True for consistent parsing.\n",
      "  to_datetime(arr).values,\n",
      "C:\\Users\\JuanRamón\\AppData\\Roaming\\Python\\Python310\\site-packages\\pandas\\core\\dtypes\\cast.py:1163: UserWarning: Parsing '27/01/2018' in DD/MM/YYYY format. Provide format or specify infer_datetime_format=True for consistent parsing.\n",
      "  to_datetime(arr).values,\n",
      "C:\\Users\\JuanRamón\\AppData\\Roaming\\Python\\Python310\\site-packages\\pandas\\core\\dtypes\\cast.py:1163: UserWarning: Parsing '28/12/2017' in DD/MM/YYYY format. Provide format or specify infer_datetime_format=True for consistent parsing.\n",
      "  to_datetime(arr).values,\n",
      "C:\\Users\\JuanRamón\\AppData\\Roaming\\Python\\Python310\\site-packages\\pandas\\core\\dtypes\\cast.py:1163: UserWarning: Parsing '28/11/2017' in DD/MM/YYYY format. Provide format or specify infer_datetime_format=True for consistent parsing.\n",
      "  to_datetime(arr).values,\n"
     ]
    },
    {
     "data": {
      "text/html": [
       "<div>\n",
       "<style scoped>\n",
       "    .dataframe tbody tr th:only-of-type {\n",
       "        vertical-align: middle;\n",
       "    }\n",
       "\n",
       "    .dataframe tbody tr th {\n",
       "        vertical-align: top;\n",
       "    }\n",
       "\n",
       "    .dataframe thead th {\n",
       "        text-align: right;\n",
       "    }\n",
       "</style>\n",
       "<table border=\"1\" class=\"dataframe\">\n",
       "  <thead>\n",
       "    <tr style=\"text-align: right;\">\n",
       "      <th></th>\n",
       "      <th>Fecha</th>\n",
       "      <th>target</th>\n",
       "    </tr>\n",
       "  </thead>\n",
       "  <tbody>\n",
       "    <tr>\n",
       "      <th>0</th>\n",
       "      <td>2022-04-26</td>\n",
       "      <td>1</td>\n",
       "    </tr>\n",
       "    <tr>\n",
       "      <th>1</th>\n",
       "      <td>2022-03-26</td>\n",
       "      <td>1</td>\n",
       "    </tr>\n",
       "    <tr>\n",
       "      <th>2</th>\n",
       "      <td>2022-02-24</td>\n",
       "      <td>1</td>\n",
       "    </tr>\n",
       "    <tr>\n",
       "      <th>3</th>\n",
       "      <td>2022-01-27</td>\n",
       "      <td>1</td>\n",
       "    </tr>\n",
       "    <tr>\n",
       "      <th>4</th>\n",
       "      <td>2021-12-25</td>\n",
       "      <td>1</td>\n",
       "    </tr>\n",
       "  </tbody>\n",
       "</table>\n",
       "</div>"
      ],
      "text/plain": [
       "       Fecha  target\n",
       "0 2022-04-26       1\n",
       "1 2022-03-26       1\n",
       "2 2022-02-24       1\n",
       "3 2022-01-27       1\n",
       "4 2021-12-25       1"
      ]
     },
     "execution_count": 10,
     "metadata": {},
     "output_type": "execute_result"
    }
   ],
   "source": [
    "df_n['Fecha'] = df_n['Fecha'].astype('datetime64')\n",
    "df_n['target'] = 1\n",
    "df_n.head()"
   ]
  },
  {
   "cell_type": "code",
   "execution_count": 11,
   "metadata": {},
   "outputs": [
    {
     "name": "stdout",
     "output_type": "stream",
     "text": [
      "(1587, 2)\n"
     ]
    },
    {
     "data": {
      "text/html": [
       "<div>\n",
       "<style scoped>\n",
       "    .dataframe tbody tr th:only-of-type {\n",
       "        vertical-align: middle;\n",
       "    }\n",
       "\n",
       "    .dataframe tbody tr th {\n",
       "        vertical-align: top;\n",
       "    }\n",
       "\n",
       "    .dataframe thead th {\n",
       "        text-align: right;\n",
       "    }\n",
       "</style>\n",
       "<table border=\"1\" class=\"dataframe\">\n",
       "  <thead>\n",
       "    <tr style=\"text-align: right;\">\n",
       "      <th></th>\n",
       "      <th>Fecha</th>\n",
       "      <th>target</th>\n",
       "    </tr>\n",
       "  </thead>\n",
       "  <tbody>\n",
       "    <tr>\n",
       "      <th>0</th>\n",
       "      <td>2017-11-01</td>\n",
       "      <td>0</td>\n",
       "    </tr>\n",
       "    <tr>\n",
       "      <th>1</th>\n",
       "      <td>2017-11-02</td>\n",
       "      <td>0</td>\n",
       "    </tr>\n",
       "    <tr>\n",
       "      <th>2</th>\n",
       "      <td>2017-11-03</td>\n",
       "      <td>0</td>\n",
       "    </tr>\n",
       "    <tr>\n",
       "      <th>3</th>\n",
       "      <td>2017-11-04</td>\n",
       "      <td>0</td>\n",
       "    </tr>\n",
       "    <tr>\n",
       "      <th>4</th>\n",
       "      <td>2017-11-05</td>\n",
       "      <td>0</td>\n",
       "    </tr>\n",
       "  </tbody>\n",
       "</table>\n",
       "</div>"
      ],
      "text/plain": [
       "       Fecha  target\n",
       "0 2017-11-01       0\n",
       "1 2017-11-02       0\n",
       "2 2017-11-03       0\n",
       "3 2017-11-04       0\n",
       "4 2017-11-05       0"
      ]
     },
     "execution_count": 11,
     "metadata": {},
     "output_type": "execute_result"
    }
   ],
   "source": [
    "df_f = df_f[~df_f['Fecha'].isin(df_n['Fecha'])]\n",
    "print(df_f.shape)\n",
    "df_f.head()"
   ]
  },
  {
   "cell_type": "code",
   "execution_count": 12,
   "metadata": {},
   "outputs": [
    {
     "name": "stdout",
     "output_type": "stream",
     "text": [
      "(1641, 2)\n"
     ]
    },
    {
     "data": {
      "text/html": [
       "<div>\n",
       "<style scoped>\n",
       "    .dataframe tbody tr th:only-of-type {\n",
       "        vertical-align: middle;\n",
       "    }\n",
       "\n",
       "    .dataframe tbody tr th {\n",
       "        vertical-align: top;\n",
       "    }\n",
       "\n",
       "    .dataframe thead th {\n",
       "        text-align: right;\n",
       "    }\n",
       "</style>\n",
       "<table border=\"1\" class=\"dataframe\">\n",
       "  <thead>\n",
       "    <tr style=\"text-align: right;\">\n",
       "      <th></th>\n",
       "      <th>Fecha</th>\n",
       "      <th>target</th>\n",
       "    </tr>\n",
       "  </thead>\n",
       "  <tbody>\n",
       "    <tr>\n",
       "      <th>0</th>\n",
       "      <td>2017-11-01</td>\n",
       "      <td>0</td>\n",
       "    </tr>\n",
       "    <tr>\n",
       "      <th>1</th>\n",
       "      <td>2017-11-02</td>\n",
       "      <td>0</td>\n",
       "    </tr>\n",
       "    <tr>\n",
       "      <th>2</th>\n",
       "      <td>2017-11-03</td>\n",
       "      <td>0</td>\n",
       "    </tr>\n",
       "    <tr>\n",
       "      <th>3</th>\n",
       "      <td>2017-11-04</td>\n",
       "      <td>0</td>\n",
       "    </tr>\n",
       "    <tr>\n",
       "      <th>4</th>\n",
       "      <td>2017-11-05</td>\n",
       "      <td>0</td>\n",
       "    </tr>\n",
       "  </tbody>\n",
       "</table>\n",
       "</div>"
      ],
      "text/plain": [
       "       Fecha  target\n",
       "0 2017-11-01       0\n",
       "1 2017-11-02       0\n",
       "2 2017-11-03       0\n",
       "3 2017-11-04       0\n",
       "4 2017-11-05       0"
      ]
     },
     "execution_count": 12,
     "metadata": {},
     "output_type": "execute_result"
    }
   ],
   "source": [
    "df = pd.concat([df_f, df_n])\n",
    "print(df.shape)\n",
    "df.head()"
   ]
  },
  {
   "cell_type": "code",
   "execution_count": 13,
   "metadata": {},
   "outputs": [
    {
     "data": {
      "text/html": [
       "<div>\n",
       "<style scoped>\n",
       "    .dataframe tbody tr th:only-of-type {\n",
       "        vertical-align: middle;\n",
       "    }\n",
       "\n",
       "    .dataframe tbody tr th {\n",
       "        vertical-align: top;\n",
       "    }\n",
       "\n",
       "    .dataframe thead th {\n",
       "        text-align: right;\n",
       "    }\n",
       "</style>\n",
       "<table border=\"1\" class=\"dataframe\">\n",
       "  <thead>\n",
       "    <tr style=\"text-align: right;\">\n",
       "      <th></th>\n",
       "      <th>target</th>\n",
       "    </tr>\n",
       "    <tr>\n",
       "      <th>Fecha</th>\n",
       "      <th></th>\n",
       "    </tr>\n",
       "  </thead>\n",
       "  <tbody>\n",
       "    <tr>\n",
       "      <th>2017-11-01</th>\n",
       "      <td>0</td>\n",
       "    </tr>\n",
       "    <tr>\n",
       "      <th>2017-11-02</th>\n",
       "      <td>0</td>\n",
       "    </tr>\n",
       "    <tr>\n",
       "      <th>2017-11-03</th>\n",
       "      <td>0</td>\n",
       "    </tr>\n",
       "    <tr>\n",
       "      <th>2017-11-04</th>\n",
       "      <td>0</td>\n",
       "    </tr>\n",
       "    <tr>\n",
       "      <th>2017-11-05</th>\n",
       "      <td>0</td>\n",
       "    </tr>\n",
       "  </tbody>\n",
       "</table>\n",
       "</div>"
      ],
      "text/plain": [
       "            target\n",
       "Fecha             \n",
       "2017-11-01       0\n",
       "2017-11-02       0\n",
       "2017-11-03       0\n",
       "2017-11-04       0\n",
       "2017-11-05       0"
      ]
     },
     "execution_count": 13,
     "metadata": {},
     "output_type": "execute_result"
    }
   ],
   "source": [
    "# Preparación del dato\n",
    "# ==============================================================================\n",
    "df = df.set_index('Fecha')\n",
    "df = df.asfreq('D')\n",
    "df = df.sort_index()\n",
    "df.head()"
   ]
  },
  {
   "cell_type": "code",
   "execution_count": 14,
   "metadata": {},
   "outputs": [
    {
     "name": "stdout",
     "output_type": "stream",
     "text": [
      "Número de filas con missing values: 0.0\n"
     ]
    }
   ],
   "source": [
    "print(f'Número de filas con missing values: {df.isnull().any(axis=1).mean()}')"
   ]
  },
  {
   "cell_type": "code",
   "execution_count": 15,
   "metadata": {},
   "outputs": [
    {
     "name": "stdout",
     "output_type": "stream",
     "text": [
      "Fechas train : 2017-11-01 00:00:00 --- 2020-05-29 00:00:00  (n=941)\n",
      "Fechas test  : 2020-05-30 00:00:00 --- 2022-04-29 00:00:00  (n=700)\n"
     ]
    },
    {
     "data": {
      "image/png": "[encoded data removed]",
      "text/plain": [
       "<Figure size 648x288 with 1 Axes>"
      ]
     },
     "metadata": {
      "needs_background": "light"
     },
     "output_type": "display_data"
    }
   ],
   "source": [
    "# Separación datos train-test\n",
    "# ==============================================================================\n",
    "steps = 700\n",
    "df_train = df[:-steps]\n",
    "df_test  = df[-steps:]\n",
    "\n",
    "print(f\"Fechas train : {df_train.index.min()} --- {df_train.index.max()}  (n={len(df_train)})\")\n",
    "print(f\"Fechas test  : {df_test.index.min()} --- {df_test.index.max()}  (n={len(df_test)})\")\n",
    "\n",
    "fig, ax = plt.subplots(figsize=(9, 4))\n",
    "df_train['target'].plot(ax=ax, label='train')\n",
    "df_test['target'].plot(ax=ax, label='test')\n",
    "ax.legend();"
   ]
  },
  {
   "cell_type": "code",
   "execution_count": 16,
   "metadata": {},
   "outputs": [
    {
     "data": {
      "text/plain": [
       "================= \n",
       "ForecasterAutoreg \n",
       "================= \n",
       "Regressor: RandomForestRegressor(random_state=123) \n",
       "Lags: [  1   2   3   4   5   6   7   8   9  10  11  12  13  14  15  16  17  18\n",
       "  19  20  21  22  23  24  25  26  27  28  29  30  31  32  33  34  35  36\n",
       "  37  38  39  40  41  42  43  44  45  46  47  48  49  50  51  52  53  54\n",
       "  55  56  57  58  59  60  61  62  63  64  65  66  67  68  69  70  71  72\n",
       "  73  74  75  76  77  78  79  80  81  82  83  84  85  86  87  88  89  90\n",
       "  91  92  93  94  95  96  97  98  99 100 101 102 103 104 105 106 107 108\n",
       " 109 110 111 112 113 114 115 116 117 118 119 120 121 122 123 124 125 126\n",
       " 127 128 129 130 131 132 133 134 135 136 137 138 139 140 141 142 143 144\n",
       " 145 146 147 148 149 150 151 152 153 154 155 156 157 158 159 160 161 162\n",
       " 163 164 165 166 167 168 169 170 171 172 173 174 175 176 177 178 179 180\n",
       " 181 182 183 184 185 186 187 188 189 190 191 192 193 194 195 196 197 198\n",
       " 199 200 201 202 203 204 205 206 207 208 209 210 211 212 213 214 215 216\n",
       " 217 218 219 220 221 222 223 224 225 226 227 228 229 230 231 232 233 234\n",
       " 235 236 237 238 239 240 241 242 243 244 245 246 247 248 249 250 251 252\n",
       " 253 254 255 256 257 258 259 260 261 262 263 264 265 266 267 268 269 270\n",
       " 271 272 273 274 275 276 277 278 279 280 281 282 283 284 285 286 287 288\n",
       " 289 290 291 292 293 294 295 296 297 298 299 300 301 302 303 304 305 306\n",
       " 307 308 309 310 311 312 313 314 315 316 317 318 319 320 321 322 323 324\n",
       " 325 326 327 328 329 330 331 332 333 334 335 336 337 338 339 340 341 342\n",
       " 343 344 345 346 347 348 349 350 351 352 353 354 355 356 357 358 359 360\n",
       " 361 362 363 364 365] \n",
       "Window size: 365 \n",
       "Included exogenous: False \n",
       "Type of exogenous variable: None \n",
       "Exogenous variables names: None \n",
       "Training range: [Timestamp('2017-11-01 00:00:00'), Timestamp('2020-05-29 00:00:00')] \n",
       "Training index type: DatetimeIndex \n",
       "Training index frequency: D \n",
       "Regressor parameters: {'bootstrap': True, 'ccp_alpha': 0.0, 'criterion': 'squared_error', 'max_depth': None, 'max_features': 'auto', 'max_leaf_nodes': None, 'max_samples': None, 'min_impurity_decrease': 0.0, 'min_samples_leaf': 1, 'min_samples_split': 2, 'min_weight_fraction_leaf': 0.0, 'n_estimators': 100, 'n_jobs': None, 'oob_score': False, 'random_state': 123, 'verbose': 0, 'warm_start': False} \n",
       "Creation date: 2022-05-09 23:38:11 \n",
       "Last fit date: 2022-05-09 23:38:11 \n",
       "Skforecast version: 0.4.3 "
      ]
     },
     "execution_count": 16,
     "metadata": {},
     "output_type": "execute_result"
    }
   ],
   "source": [
    "# Crear y entrenar forecaster\n",
    "# ==============================================================================\n",
    "forecaster = ForecasterAutoreg(\n",
    "                regressor = RandomForestRegressor(random_state=123),\n",
    "                lags = 365\n",
    "             )\n",
    "\n",
    "forecaster.fit(y=df_train['target'])\n",
    "forecaster"
   ]
  },
  {
   "cell_type": "code",
   "execution_count": 17,
   "metadata": {},
   "outputs": [
    {
     "data": {
      "text/plain": [
       "2020-05-30    0.00\n",
       "2020-05-31    0.00\n",
       "2020-06-01    0.19\n",
       "2020-06-02    0.00\n",
       "2020-06-03    0.00\n",
       "Freq: D, Name: pred, dtype: float64"
      ]
     },
     "execution_count": 17,
     "metadata": {},
     "output_type": "execute_result"
    }
   ],
   "source": [
    "steps = 700\n",
    "predicciones = forecaster.predict(steps=steps)\n",
    "predicciones.head()"
   ]
  },
  {
   "cell_type": "code",
   "execution_count": 18,
   "metadata": {},
   "outputs": [
    {
     "data": {
      "image/png": "[encoded data removed]",
      "text/plain": [
       "<Figure size 1296x288 with 1 Axes>"
      ]
     },
     "metadata": {
      "needs_background": "light"
     },
     "output_type": "display_data"
    }
   ],
   "source": [
    "# Gráfico\n",
    "# ==============================================================================\n",
    "fig, ax = plt.subplots(figsize=(18, 4))\n",
    "df_train['target'].plot(ax=ax, label='train')\n",
    "df_test['target'].plot(ax=ax, label='test')\n",
    "predicciones.plot(ax=ax, label='predicciones')\n",
    "ax.legend();"
   ]
  },
  {
   "cell_type": "code",
   "execution_count": 19,
   "metadata": {},
   "outputs": [
    {
     "name": "stdout",
     "output_type": "stream",
     "text": [
      "Error de test (mse): 0.03451685714285714\n"
     ]
    }
   ],
   "source": [
    "# Error test\n",
    "# ==============================================================================\n",
    "error_mse = mean_squared_error(\n",
    "                y_true = df_test['target'],\n",
    "                y_pred = predicciones\n",
    "            )\n",
    "\n",
    "print(f\"Error de test (mse): {error_mse}\")"
   ]
  },
  {
   "cell_type": "code",
   "execution_count": 20,
   "metadata": {},
   "outputs": [
    {
     "data": {
      "text/plain": [
       "2020-06-26    0.52\n",
       "2020-07-28    0.55\n",
       "2020-08-27    0.69\n",
       "2020-09-30    0.63\n",
       "2020-10-28    0.74\n",
       "2021-01-27    0.68\n",
       "2021-02-25    0.58\n",
       "2021-03-30    0.57\n",
       "2021-04-28    0.70\n",
       "2021-05-28    0.65\n",
       "2021-07-28    0.59\n",
       "2021-07-29    0.56\n",
       "2021-09-28    0.62\n",
       "2021-12-29    0.66\n",
       "2022-01-27    0.63\n",
       "2022-04-29    0.59\n",
       "Name: pred, dtype: float64"
      ]
     },
     "execution_count": 20,
     "metadata": {},
     "output_type": "execute_result"
    }
   ],
   "source": [
    "predicciones[predicciones > 0.5]"
   ]
  },
  {
   "cell_type": "code",
   "execution_count": 21,
   "metadata": {},
   "outputs": [
    {
     "data": {
      "text/plain": [
       "470"
      ]
     },
     "execution_count": 21,
     "metadata": {},
     "output_type": "execute_result"
    }
   ],
   "source": [
    "int(len(df_train)*0.5)"
   ]
  },
  {
   "cell_type": "code",
   "execution_count": 22,
   "metadata": {},
   "outputs": [
    {
     "name": "stdout",
     "output_type": "stream",
     "text": [
      "Number of models compared: 12\n"
     ]
    },
    {
     "name": "stderr",
     "output_type": "stream",
     "text": [
      "loop lags_grid: 100%|███████████████████████████████████████| 2/2 [01:06<00:00, 33.46s/it]\n"
     ]
    },
    {
     "name": "stdout",
     "output_type": "stream",
     "text": [
      "`Forecaster` refitted using the best-found lags and parameters, and the whole data set: \n",
      "  Lags: [  1   2   3   4   5   6   7   8   9  10  11  12  13  14  15  16  17  18\n",
      "  19  20  21  22  23  24  25  26  27  28  29  30  31  32  33  34  35  36\n",
      "  37  38  39  40  41  42  43  44  45  46  47  48  49  50  51  52  53  54\n",
      "  55  56  57  58  59  60  61  62  63  64  65  66  67  68  69  70  71  72\n",
      "  73  74  75  76  77  78  79  80  81  82  83  84  85  86  87  88  89  90\n",
      "  91  92  93  94  95  96  97  98  99 100 101 102 103 104 105 106 107 108\n",
      " 109 110 111 112 113 114 115 116 117 118 119 120 121 122 123 124 125 126\n",
      " 127 128 129 130 131 132 133 134 135 136 137 138 139 140 141 142 143 144\n",
      " 145 146 147 148 149 150 151 152 153 154 155 156 157 158 159 160 161 162\n",
      " 163 164 165 166 167 168 169 170 171 172 173 174 175 176 177 178 179 180\n",
      " 181 182 183 184 185 186 187 188 189 190 191 192 193 194 195 196 197 198\n",
      " 199 200 201 202 203 204 205 206 207 208 209 210 211 212 213 214 215 216\n",
      " 217 218 219 220 221 222 223 224 225 226 227 228 229 230 231 232 233 234\n",
      " 235 236 237 238 239 240 241 242 243 244 245 246 247 248 249 250 251 252\n",
      " 253 254 255 256 257 258 259 260 261 262 263 264 265 266 267 268 269 270\n",
      " 271 272 273 274 275 276 277 278 279 280] \n",
      "  Parameters: {'max_depth': 3, 'n_estimators': 500}\n",
      "  Backtesting metric: 0.03039209141720929\n",
      "\n"
     ]
    }
   ],
   "source": [
    "# Grid search de hiperparámetros\n",
    "# ==============================================================================\n",
    "steps = 250\n",
    "forecaster = ForecasterAutoreg(\n",
    "                regressor = RandomForestRegressor(random_state=123),\n",
    "                lags      = 365 # Este valor será remplazado en el grid search\n",
    "             )\n",
    "\n",
    "# Lags utilizados como predictores\n",
    "lags_grid = [182, 280]\n",
    "\n",
    "# Hiperparámetros del regresor\n",
    "param_grid = {'n_estimators': [100, 500],\n",
    "              'max_depth': [3, 5, 10]}\n",
    "\n",
    "resultados_grid = grid_search_forecaster(\n",
    "                        forecaster         = forecaster,\n",
    "                        y                  = df_train['target'],\n",
    "                        param_grid         = param_grid,\n",
    "                        lags_grid          = lags_grid,\n",
    "                        steps              = steps,\n",
    "                        refit              = True,\n",
    "                        metric             = 'mean_squared_error',\n",
    "                        initial_train_size = int(len(df_train)*0.7),\n",
    "                        fixed_train_size   = False,\n",
    "                        return_best        = True,\n",
    "                        verbose            = False\n",
    "                   )"
   ]
  },
  {
   "cell_type": "code",
   "execution_count": 23,
   "metadata": {},
   "outputs": [
    {
     "data": {
      "text/html": [
       "<div>\n",
       "<style scoped>\n",
       "    .dataframe tbody tr th:only-of-type {\n",
       "        vertical-align: middle;\n",
       "    }\n",
       "\n",
       "    .dataframe tbody tr th {\n",
       "        vertical-align: top;\n",
       "    }\n",
       "\n",
       "    .dataframe thead th {\n",
       "        text-align: right;\n",
       "    }\n",
       "</style>\n",
       "<table border=\"1\" class=\"dataframe\">\n",
       "  <thead>\n",
       "    <tr style=\"text-align: right;\">\n",
       "      <th></th>\n",
       "      <th>lags</th>\n",
       "      <th>params</th>\n",
       "      <th>metric</th>\n",
       "      <th>max_depth</th>\n",
       "      <th>n_estimators</th>\n",
       "    </tr>\n",
       "  </thead>\n",
       "  <tbody>\n",
       "    <tr>\n",
       "      <th>7</th>\n",
       "      <td>[1, 2, 3, 4, 5, 6, 7, 8, 9, 10, 11, 12, 13, 14...</td>\n",
       "      <td>{'max_depth': 3, 'n_estimators': 500}</td>\n",
       "      <td>0.030392</td>\n",
       "      <td>3</td>\n",
       "      <td>500</td>\n",
       "    </tr>\n",
       "    <tr>\n",
       "      <th>6</th>\n",
       "      <td>[1, 2, 3, 4, 5, 6, 7, 8, 9, 10, 11, 12, 13, 14...</td>\n",
       "      <td>{'max_depth': 3, 'n_estimators': 100}</td>\n",
       "      <td>0.030715</td>\n",
       "      <td>3</td>\n",
       "      <td>100</td>\n",
       "    </tr>\n",
       "    <tr>\n",
       "      <th>11</th>\n",
       "      <td>[1, 2, 3, 4, 5, 6, 7, 8, 9, 10, 11, 12, 13, 14...</td>\n",
       "      <td>{'max_depth': 10, 'n_estimators': 500}</td>\n",
       "      <td>0.030779</td>\n",
       "      <td>10</td>\n",
       "      <td>500</td>\n",
       "    </tr>\n",
       "    <tr>\n",
       "      <th>9</th>\n",
       "      <td>[1, 2, 3, 4, 5, 6, 7, 8, 9, 10, 11, 12, 13, 14...</td>\n",
       "      <td>{'max_depth': 5, 'n_estimators': 500}</td>\n",
       "      <td>0.030935</td>\n",
       "      <td>5</td>\n",
       "      <td>500</td>\n",
       "    </tr>\n",
       "    <tr>\n",
       "      <th>10</th>\n",
       "      <td>[1, 2, 3, 4, 5, 6, 7, 8, 9, 10, 11, 12, 13, 14...</td>\n",
       "      <td>{'max_depth': 10, 'n_estimators': 100}</td>\n",
       "      <td>0.031185</td>\n",
       "      <td>10</td>\n",
       "      <td>100</td>\n",
       "    </tr>\n",
       "    <tr>\n",
       "      <th>8</th>\n",
       "      <td>[1, 2, 3, 4, 5, 6, 7, 8, 9, 10, 11, 12, 13, 14...</td>\n",
       "      <td>{'max_depth': 5, 'n_estimators': 100}</td>\n",
       "      <td>0.031352</td>\n",
       "      <td>5</td>\n",
       "      <td>100</td>\n",
       "    </tr>\n",
       "    <tr>\n",
       "      <th>1</th>\n",
       "      <td>[1, 2, 3, 4, 5, 6, 7, 8, 9, 10, 11, 12, 13, 14...</td>\n",
       "      <td>{'max_depth': 3, 'n_estimators': 500}</td>\n",
       "      <td>0.033453</td>\n",
       "      <td>3</td>\n",
       "      <td>500</td>\n",
       "    </tr>\n",
       "    <tr>\n",
       "      <th>0</th>\n",
       "      <td>[1, 2, 3, 4, 5, 6, 7, 8, 9, 10, 11, 12, 13, 14...</td>\n",
       "      <td>{'max_depth': 3, 'n_estimators': 100}</td>\n",
       "      <td>0.033594</td>\n",
       "      <td>3</td>\n",
       "      <td>100</td>\n",
       "    </tr>\n",
       "    <tr>\n",
       "      <th>3</th>\n",
       "      <td>[1, 2, 3, 4, 5, 6, 7, 8, 9, 10, 11, 12, 13, 14...</td>\n",
       "      <td>{'max_depth': 5, 'n_estimators': 500}</td>\n",
       "      <td>0.035251</td>\n",
       "      <td>5</td>\n",
       "      <td>500</td>\n",
       "    </tr>\n",
       "    <tr>\n",
       "      <th>2</th>\n",
       "      <td>[1, 2, 3, 4, 5, 6, 7, 8, 9, 10, 11, 12, 13, 14...</td>\n",
       "      <td>{'max_depth': 5, 'n_estimators': 100}</td>\n",
       "      <td>0.035513</td>\n",
       "      <td>5</td>\n",
       "      <td>100</td>\n",
       "    </tr>\n",
       "    <tr>\n",
       "      <th>5</th>\n",
       "      <td>[1, 2, 3, 4, 5, 6, 7, 8, 9, 10, 11, 12, 13, 14...</td>\n",
       "      <td>{'max_depth': 10, 'n_estimators': 500}</td>\n",
       "      <td>0.036069</td>\n",
       "      <td>10</td>\n",
       "      <td>500</td>\n",
       "    </tr>\n",
       "    <tr>\n",
       "      <th>4</th>\n",
       "      <td>[1, 2, 3, 4, 5, 6, 7, 8, 9, 10, 11, 12, 13, 14...</td>\n",
       "      <td>{'max_depth': 10, 'n_estimators': 100}</td>\n",
       "      <td>0.036288</td>\n",
       "      <td>10</td>\n",
       "      <td>100</td>\n",
       "    </tr>\n",
       "  </tbody>\n",
       "</table>\n",
       "</div>"
      ],
      "text/plain": [
       "                                                 lags  \\\n",
       "7   [1, 2, 3, 4, 5, 6, 7, 8, 9, 10, 11, 12, 13, 14...   \n",
       "6   [1, 2, 3, 4, 5, 6, 7, 8, 9, 10, 11, 12, 13, 14...   \n",
       "11  [1, 2, 3, 4, 5, 6, 7, 8, 9, 10, 11, 12, 13, 14...   \n",
       "9   [1, 2, 3, 4, 5, 6, 7, 8, 9, 10, 11, 12, 13, 14...   \n",
       "10  [1, 2, 3, 4, 5, 6, 7, 8, 9, 10, 11, 12, 13, 14...   \n",
       "8   [1, 2, 3, 4, 5, 6, 7, 8, 9, 10, 11, 12, 13, 14...   \n",
       "1   [1, 2, 3, 4, 5, 6, 7, 8, 9, 10, 11, 12, 13, 14...   \n",
       "0   [1, 2, 3, 4, 5, 6, 7, 8, 9, 10, 11, 12, 13, 14...   \n",
       "3   [1, 2, 3, 4, 5, 6, 7, 8, 9, 10, 11, 12, 13, 14...   \n",
       "2   [1, 2, 3, 4, 5, 6, 7, 8, 9, 10, 11, 12, 13, 14...   \n",
       "5   [1, 2, 3, 4, 5, 6, 7, 8, 9, 10, 11, 12, 13, 14...   \n",
       "4   [1, 2, 3, 4, 5, 6, 7, 8, 9, 10, 11, 12, 13, 14...   \n",
       "\n",
       "                                    params    metric  max_depth  n_estimators  \n",
       "7    {'max_depth': 3, 'n_estimators': 500}  0.030392          3           500  \n",
       "6    {'max_depth': 3, 'n_estimators': 100}  0.030715          3           100  \n",
       "11  {'max_depth': 10, 'n_estimators': 500}  0.030779         10           500  \n",
       "9    {'max_depth': 5, 'n_estimators': 500}  0.030935          5           500  \n",
       "10  {'max_depth': 10, 'n_estimators': 100}  0.031185         10           100  \n",
       "8    {'max_depth': 5, 'n_estimators': 100}  0.031352          5           100  \n",
       "1    {'max_depth': 3, 'n_estimators': 500}  0.033453          3           500  \n",
       "0    {'max_depth': 3, 'n_estimators': 100}  0.033594          3           100  \n",
       "3    {'max_depth': 5, 'n_estimators': 500}  0.035251          5           500  \n",
       "2    {'max_depth': 5, 'n_estimators': 100}  0.035513          5           100  \n",
       "5   {'max_depth': 10, 'n_estimators': 500}  0.036069         10           500  \n",
       "4   {'max_depth': 10, 'n_estimators': 100}  0.036288         10           100  "
      ]
     },
     "execution_count": 23,
     "metadata": {},
     "output_type": "execute_result"
    }
   ],
   "source": [
    "# Resultados Grid Search\n",
    "# ==============================================================================\n",
    "resultados_grid"
   ]
  },
  {
   "cell_type": "code",
   "execution_count": 24,
   "metadata": {},
   "outputs": [],
   "source": [
    "# Crear y entrenar forecaster con mejores hiperparámetros\n",
    "# ==============================================================================\n",
    "regressor = RandomForestRegressor(max_depth=3, n_estimators=500, random_state=123)\n",
    "forecaster = ForecasterAutoreg(\n",
    "                regressor = regressor,\n",
    "                lags      = 365\n",
    "             )\n",
    "\n",
    "forecaster.fit(y=df_train['target'])"
   ]
  },
  {
   "cell_type": "code",
   "execution_count": 25,
   "metadata": {},
   "outputs": [
    {
     "data": {
      "text/plain": [
       "2020-05-30    0.007110\n",
       "2020-05-31    0.001556\n",
       "2020-06-01    0.178681\n",
       "2020-06-02    0.008133\n",
       "2020-06-03    0.002313\n",
       "Freq: D, Name: pred, dtype: float64"
      ]
     },
     "execution_count": 25,
     "metadata": {},
     "output_type": "execute_result"
    }
   ],
   "source": [
    "steps = 700\n",
    "predicciones = forecaster.predict(steps=steps)\n",
    "predicciones.head()"
   ]
  },
  {
   "cell_type": "code",
   "execution_count": 26,
   "metadata": {},
   "outputs": [
    {
     "data": {
      "image/png": "[encoded data removed]",
      "text/plain": [
       "<Figure size 1296x288 with 1 Axes>"
      ]
     },
     "metadata": {
      "needs_background": "light"
     },
     "output_type": "display_data"
    }
   ],
   "source": [
    "# Gráfico\n",
    "# ==============================================================================\n",
    "fig, ax = plt.subplots(figsize=(18, 4))\n",
    "df_train['target'].plot(ax=ax, label='train')\n",
    "df_test['target'].plot(ax=ax, label='test')\n",
    "predicciones.plot(ax=ax, label='predicciones')\n",
    "ax.legend();"
   ]
  },
  {
   "cell_type": "code",
   "execution_count": 27,
   "metadata": {},
   "outputs": [
    {
     "name": "stdout",
     "output_type": "stream",
     "text": [
      "Error de test (mse): 0.03155272006990315\n"
     ]
    }
   ],
   "source": [
    "# Error test\n",
    "# ==============================================================================\n",
    "error_mse = mean_squared_error(\n",
    "                y_true = df_test['target'],\n",
    "                y_pred = predicciones\n",
    "            )\n",
    "\n",
    "print(f\"Error de test (mse): {error_mse}\")"
   ]
  },
  {
   "cell_type": "code",
   "execution_count": 28,
   "metadata": {},
   "outputs": [
    {
     "data": {
      "text/plain": [
       "2020-06-26    0.455118\n",
       "2020-06-29    0.314118\n",
       "2020-07-28    0.507008\n",
       "2020-08-26    0.332982\n",
       "2020-08-27    0.566451\n",
       "2020-09-28    0.356591\n",
       "2020-09-30    0.546119\n",
       "2020-10-27    0.348109\n",
       "2020-10-28    0.645291\n",
       "2020-12-28    0.315111\n",
       "2021-01-27    0.609766\n",
       "2021-02-25    0.453302\n",
       "2021-03-30    0.499625\n",
       "2021-04-28    0.613026\n",
       "2021-06-29    0.486429\n",
       "2021-07-28    0.320426\n",
       "2021-07-29    0.563103\n",
       "2021-12-29    0.307783\n",
       "2022-01-27    0.362476\n",
       "Name: pred, dtype: float64"
      ]
     },
     "execution_count": 28,
     "metadata": {},
     "output_type": "execute_result"
    }
   ],
   "source": [
    "predicciones[predicciones > 0.3]"
   ]
  },
  {
   "cell_type": "code",
   "execution_count": null,
   "metadata": {},
   "outputs": [],
   "source": []
  }
 ],
 "metadata": {
  "interpreter": {
   "hash": "2f8e31d2f56679e18e6ef5f3da0141a5f266e992ffe5e281fe5be0c640f7296a"
  },
  "kernelspec": {
   "display_name": "Python 3.10.4 64-bit (system)",
   "language": "python",
   "name": "python3"
  },
  "language_info": {
   "codemirror_mode": {
    "name": "ipython",
    "version": 3
   },
   "file_extension": ".py",
   "mimetype": "text/x-python",
   "name": "python",
   "nbconvert_exporter": "python",
   "pygments_lexer": "ipython3",
   "version": "3.10.4"
  },
  "orig_nbformat": 4
 },
 "nbformat": 4,
 "nbformat_minor": 2
}
